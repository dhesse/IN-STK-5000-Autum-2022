{
 "cells": [
  {
   "cell_type": "code",
   "execution_count": 1,
   "id": "bfd471ea-5070-4d22-92a3-426fbd35fee2",
   "metadata": {},
   "outputs": [],
   "source": [
    "import pandas\n",
    "import scipy\n",
    "import numpy\n",
    "import matplotlib.pyplot as plt\n",
    "import seaborn as sns"
   ]
  },
  {
   "cell_type": "code",
   "execution_count": 2,
   "id": "487dc5c9-6ae3-4aab-b4e8-7b8d58bed291",
   "metadata": {},
   "outputs": [],
   "source": [
    "url = \"https://data.urbansharing.com/oslobysykkel.no/trips/v1/2022/0{n}.csv\""
   ]
  },
  {
   "cell_type": "code",
   "execution_count": 3,
   "id": "16d2663f-55c3-447c-a956-bf7a0dce4bcc",
   "metadata": {},
   "outputs": [],
   "source": [
    "data = pandas.concat([\n",
    "pandas.read_csv(url.format(n=n), parse_dates=[0,1])\n",
    "    for n in [4, 5, 6, 7]\n",
    "])"
   ]
  },
  {
   "cell_type": "code",
   "execution_count": 5,
   "id": "898d8fb0-ed32-4f6e-b21b-62d737ba8a32",
   "metadata": {},
   "outputs": [
    {
     "name": "stdout",
     "output_type": "stream",
     "text": [
      "<class 'pandas.core.frame.DataFrame'>\n",
      "Int64Index: 636140 entries, 0 to 159260\n",
      "Data columns (total 13 columns):\n",
      " #   Column                     Non-Null Count   Dtype              \n",
      "---  ------                     --------------   -----              \n",
      " 0   started_at                 636140 non-null  datetime64[ns, UTC]\n",
      " 1   ended_at                   636140 non-null  datetime64[ns, UTC]\n",
      " 2   duration                   636140 non-null  int64              \n",
      " 3   start_station_id           636140 non-null  int64              \n",
      " 4   start_station_name         636140 non-null  object             \n",
      " 5   start_station_description  636124 non-null  object             \n",
      " 6   start_station_latitude     636140 non-null  float64            \n",
      " 7   start_station_longitude    636140 non-null  float64            \n",
      " 8   end_station_id             636140 non-null  int64              \n",
      " 9   end_station_name           636140 non-null  object             \n",
      " 10  end_station_description    636124 non-null  object             \n",
      " 11  end_station_latitude       636140 non-null  float64            \n",
      " 12  end_station_longitude      636140 non-null  float64            \n",
      "dtypes: datetime64[ns, UTC](2), float64(4), int64(3), object(4)\n",
      "memory usage: 67.9+ MB\n"
     ]
    }
   ],
   "source": [
    "data.info()"
   ]
  },
  {
   "cell_type": "code",
   "execution_count": 8,
   "id": "7fb14eb7-8af2-4b70-bdb8-0a8768f8dcf3",
   "metadata": {},
   "outputs": [
    {
     "data": {
      "text/plain": [
       "<AxesSubplot:ylabel='Frequency'>"
      ]
     },
     "execution_count": 8,
     "metadata": {},
     "output_type": "execute_result"
    },
    {
     "data": {
      "image/png": "[encoded data removed]",
      "text/plain": [
       "<Figure size 432x288 with 1 Axes>"
      ]
     },
     "metadata": {
      "needs_background": "light"
     },
     "output_type": "display_data"
    }
   ],
   "source": [
    "data['duration'].plot.hist(bins=100)"
   ]
  },
  {
   "cell_type": "code",
   "execution_count": 10,
   "id": "e2eb660f-c7e8-4b7c-acdc-ca1bb5de58f5",
   "metadata": {},
   "outputs": [
    {
     "data": {
      "text/plain": [
       "<AxesSubplot:ylabel='Frequency'>"
      ]
     },
     "execution_count": 10,
     "metadata": {},
     "output_type": "execute_result"
    },
    {
     "data": {
      "image/png": "[encoded data removed]",
      "text/plain": [
       "<Figure size 432x288 with 1 Axes>"
      ]
     },
     "metadata": {
      "needs_background": "light"
     },
     "output_type": "display_data"
    }
   ],
   "source": [
    "numpy.log(data['duration']).plot.hist(bins=50)"
   ]
  },
  {
   "cell_type": "code",
   "execution_count": 11,
   "id": "dfb9e460-0a58-4ba9-aece-ceb3ae4c2d9e",
   "metadata": {},
   "outputs": [
    {
     "data": {
      "text/plain": [
       "8.1886891244442"
      ]
     },
     "execution_count": 11,
     "metadata": {},
     "output_type": "execute_result"
    }
   ],
   "source": [
    "numpy.log(60*60)"
   ]
  },
  {
   "cell_type": "code",
   "execution_count": 14,
   "id": "b60eaf32-5897-4621-be4b-3c560fccc7a0",
   "metadata": {},
   "outputs": [],
   "source": [
    "mu,sigma = scipy.stats.norm.fit(numpy.log(data['duration']))"
   ]
  },
  {
   "cell_type": "code",
   "execution_count": 16,
   "id": "6c5f916d-750a-4c49-b688-02f79ada85c6",
   "metadata": {},
   "outputs": [
    {
     "data": {
      "text/plain": [
       "<AxesSubplot:ylabel='Frequency'>"
      ]
     },
     "execution_count": 16,
     "metadata": {},
     "output_type": "execute_result"
    },
    {
     "data": {
      "image/png": "[encoded data removed]",
      "text/plain": [
       "<Figure size 432x288 with 1 Axes>"
      ]
     },
     "metadata": {
      "needs_background": "light"
     },
     "output_type": "display_data"
    }
   ],
   "source": [
    "xs = numpy.linspace(4, 11, 200)\n",
    "plt.plot(xs, scipy.stats.norm(mu, sigma).pdf(xs))\n",
    "numpy.log(data['duration']).plot.hist(bins=50, density=True)"
   ]
  },
  {
   "cell_type": "code",
   "execution_count": 20,
   "id": "a0328b1d-8256-448f-af20-df25993a49c1",
   "metadata": {},
   "outputs": [],
   "source": [
    "biggest10 = numpy.log(data['duration'].sort_values()[-10:])"
   ]
  },
  {
   "cell_type": "code",
   "execution_count": 21,
   "id": "c137b2f8-9a3b-4990-b425-c8b9e8114873",
   "metadata": {},
   "outputs": [
    {
     "data": {
      "text/plain": [
       "array([0.99999994, 0.99999994, 0.99999994, 0.99999994, 0.99999994,\n",
       "       0.99999995, 0.99999996, 0.99999997, 1.        , 1.        ])"
      ]
     },
     "execution_count": 21,
     "metadata": {},
     "output_type": "execute_result"
    }
   ],
   "source": [
    "scipy.stats.norm(mu, sigma).cdf(biggest10)"
   ]
  },
  {
   "cell_type": "code",
   "execution_count": 24,
   "id": "015491df-52c5-402a-adf5-e4a77e6fc4a9",
   "metadata": {},
   "outputs": [
    {
     "data": {
      "text/plain": [
       "(636140, 13)"
      ]
     },
     "execution_count": 24,
     "metadata": {},
     "output_type": "execute_result"
    }
   ],
   "source": [
    "data.shape"
   ]
  },
  {
   "cell_type": "code",
   "execution_count": 26,
   "id": "84a2c0a1-80ba-47e3-bf4b-0c6e9b6edd99",
   "metadata": {},
   "outputs": [
    {
     "data": {
      "text/plain": [
       "53690      8.566111\n",
       "99303      8.567500\n",
       "39026      8.576389\n",
       "8761       8.581667\n",
       "49831      8.674722\n",
       "151573     8.830556\n",
       "102017     9.141667\n",
       "108240     9.721667\n",
       "81023     13.072500\n",
       "40160     18.823611\n",
       "Name: duration, dtype: float64"
      ]
     },
     "execution_count": 26,
     "metadata": {},
     "output_type": "execute_result"
    }
   ],
   "source": [
    "numpy.exp(biggest10) / 60 / 60"
   ]
  },
  {
   "cell_type": "code",
   "execution_count": 27,
   "id": "93b83f35-50b3-4fa8-b2b4-050790850b23",
   "metadata": {},
   "outputs": [
    {
     "data": {
      "text/plain": [
       "53690     13.704220\n",
       "99303     13.704435\n",
       "39026     13.705809\n",
       "8761      13.706625\n",
       "49831     13.720924\n",
       "151573    13.744530\n",
       "102017    13.790435\n",
       "108240    13.871992\n",
       "81023     14.264635\n",
       "40160     14.748026\n",
       "Name: duration, dtype: float64"
      ]
     },
     "execution_count": 27,
     "metadata": {},
     "output_type": "execute_result"
    }
   ],
   "source": [
    "biggest10 / sigma"
   ]
  },
  {
   "cell_type": "code",
   "execution_count": 28,
   "id": "ae21557a-98e4-4ebc-9523-a479224ae75c",
   "metadata": {},
   "outputs": [
    {
     "data": {
      "text/plain": [
       "(0.7817125606857132, 15.500213498083536, 553.2633575518133)"
      ]
     },
     "execution_count": 28,
     "metadata": {},
     "output_type": "execute_result"
    }
   ],
   "source": [
    "scipy.stats.lognorm.fit(data['duration'])"
   ]
  },
  {
   "cell_type": "code",
   "execution_count": 29,
   "id": "ffed8d42-4666-4aa2-834c-9422578e2125",
   "metadata": {},
   "outputs": [
    {
     "data": {
      "text/plain": [
       "(0.7542569594679288, 0.0, 573.9200734676854)"
      ]
     },
     "execution_count": 29,
     "metadata": {},
     "output_type": "execute_result"
    }
   ],
   "source": [
    "scipy.stats.lognorm.fit(data['duration'], floc=0)"
   ]
  },
  {
   "cell_type": "code",
   "execution_count": 30,
   "id": "632b0f83-e5f9-4304-8c37-859f4bade5a8",
   "metadata": {},
   "outputs": [
    {
     "data": {
      "text/plain": [
       "0.7542569594679288"
      ]
     },
     "execution_count": 30,
     "metadata": {},
     "output_type": "execute_result"
    }
   ],
   "source": [
    "sigma"
   ]
  },
  {
   "cell_type": "code",
   "execution_count": 31,
   "id": "e1670902-3357-4449-82e0-bc6b673b2496",
   "metadata": {},
   "outputs": [
    {
     "data": {
      "text/plain": [
       "573.9200734676854"
      ]
     },
     "execution_count": 31,
     "metadata": {},
     "output_type": "execute_result"
    }
   ],
   "source": [
    "numpy.exp(mu)"
   ]
  },
  {
   "cell_type": "markdown",
   "id": "6f162e28-8c8d-455a-ae0c-60399c955159",
   "metadata": {},
   "source": [
    "# Hypothsis testing interlude"
   ]
  },
  {
   "cell_type": "code",
   "execution_count": 32,
   "id": "1db8edad-5fd0-47c8-bf89-210fc2a8f42c",
   "metadata": {},
   "outputs": [],
   "source": [
    "per_day = data.groupby(pandas.Grouper(key='started_at', freq='D')).size()"
   ]
  },
  {
   "cell_type": "code",
   "execution_count": 33,
   "id": "e947bf69-de2b-43ba-9b5d-fd5e96d7dc17",
   "metadata": {},
   "outputs": [
    {
     "data": {
      "text/plain": [
       "<AxesSubplot:xlabel='started_at'>"
      ]
     },
     "execution_count": 33,
     "metadata": {},
     "output_type": "execute_result"
    },
    {
     "data": {
      "image/png": "[encoded data removed]",
      "text/plain": [
       "<Figure size 432x288 with 1 Axes>"
      ]
     },
     "metadata": {
      "needs_background": "light"
     },
     "output_type": "display_data"
    }
   ],
   "source": [
    "per_day.plot.line()"
   ]
  },
  {
   "cell_type": "code",
   "execution_count": 35,
   "id": "cb801d95-7eea-4949-94c8-fac750d25670",
   "metadata": {},
   "outputs": [
    {
     "data": {
      "text/plain": [
       "<AxesSubplot:xlabel='started_at'>"
      ]
     },
     "execution_count": 35,
     "metadata": {},
     "output_type": "execute_result"
    },
    {
     "data": {
      "image/png": "[encoded data removed]",
      "text/plain": [
       "<Figure size 432x288 with 1 Axes>"
      ]
     },
     "metadata": {
      "needs_background": "light"
     },
     "output_type": "display_data"
    }
   ],
   "source": [
    "per_day.groupby(per_day.index.weekday).mean().plot.bar()"
   ]
  },
  {
   "cell_type": "code",
   "execution_count": 36,
   "id": "bb0b7665-7d5e-40b1-986e-40320372a14c",
   "metadata": {},
   "outputs": [
    {
     "data": {
      "text/plain": [
       "Power_divergenceResult(statistic=1058.8663573011704, pvalue=1.6531980573114888e-225)"
      ]
     },
     "execution_count": 36,
     "metadata": {},
     "output_type": "execute_result"
    }
   ],
   "source": [
    "scipy.stats.chisquare(per_day.groupby(per_day.index.weekday).mean())"
   ]
  },
  {
   "cell_type": "code",
   "execution_count": 38,
   "id": "22286408-44f2-484f-bc90-4af87a39d846",
   "metadata": {},
   "outputs": [
    {
     "data": {
      "text/plain": [
       "Power_divergenceResult(statistic=52.75535416430522, pvalue=9.587756472881855e-11)"
      ]
     },
     "execution_count": 38,
     "metadata": {},
     "output_type": "execute_result"
    }
   ],
   "source": [
    "scipy.stats.chisquare(per_day.groupby(per_day.index.weekday).mean()[:5])"
   ]
  },
  {
   "cell_type": "markdown",
   "id": "86667248-577c-4815-9e09-ee3a5ab14824",
   "metadata": {},
   "source": [
    "## Clustering"
   ]
  },
  {
   "cell_type": "code",
   "execution_count": 39,
   "id": "d16fc71e-0f91-4765-a1be-37ca606e6328",
   "metadata": {},
   "outputs": [],
   "source": [
    "by_hour = data.groupby(pandas.Grouper(key='started_at', freq='h')).size()"
   ]
  },
  {
   "cell_type": "code",
   "execution_count": 40,
   "id": "3a7a8fd9-6e5c-491f-8719-229a53647fcb",
   "metadata": {},
   "outputs": [
    {
     "data": {
      "text/plain": [
       "started_at\n",
       "2022-04-01 03:00:00+00:00      9\n",
       "2022-04-01 04:00:00+00:00     53\n",
       "2022-04-01 05:00:00+00:00    212\n",
       "2022-04-01 06:00:00+00:00    336\n",
       "2022-04-01 07:00:00+00:00    166\n",
       "                            ... \n",
       "2022-07-31 18:00:00+00:00    116\n",
       "2022-07-31 19:00:00+00:00     51\n",
       "2022-07-31 20:00:00+00:00     39\n",
       "2022-07-31 21:00:00+00:00     21\n",
       "2022-07-31 22:00:00+00:00     16\n",
       "Freq: H, Length: 2924, dtype: int64"
      ]
     },
     "execution_count": 40,
     "metadata": {},
     "output_type": "execute_result"
    }
   ],
   "source": [
    "by_hour"
   ]
  },
  {
   "cell_type": "code",
   "execution_count": 41,
   "id": "83a756e7-371c-41fe-aff1-b0129566994f",
   "metadata": {},
   "outputs": [],
   "source": [
    "df_hour = pandas.DataFrame({'date': by_hour.index.date,\n",
    "                            'hour': by_hour.index.hour,\n",
    "                            'count': by_hour})"
   ]
  },
  {
   "cell_type": "code",
   "execution_count": 42,
   "id": "37b062c3-4bd3-49a0-b5e7-f6142758155b",
   "metadata": {},
   "outputs": [
    {
     "data": {
      "text/html": [
       "<div>\n",
       "<style scoped>\n",
       "    .dataframe tbody tr th:only-of-type {\n",
       "        vertical-align: middle;\n",
       "    }\n",
       "\n",
       "    .dataframe tbody tr th {\n",
       "        vertical-align: top;\n",
       "    }\n",
       "\n",
       "    .dataframe thead th {\n",
       "        text-align: right;\n",
       "    }\n",
       "</style>\n",
       "<table border=\"1\" class=\"dataframe\">\n",
       "  <thead>\n",
       "    <tr style=\"text-align: right;\">\n",
       "      <th></th>\n",
       "      <th>date</th>\n",
       "      <th>hour</th>\n",
       "      <th>count</th>\n",
       "    </tr>\n",
       "    <tr>\n",
       "      <th>started_at</th>\n",
       "      <th></th>\n",
       "      <th></th>\n",
       "      <th></th>\n",
       "    </tr>\n",
       "  </thead>\n",
       "  <tbody>\n",
       "    <tr>\n",
       "      <th>2022-04-01 03:00:00+00:00</th>\n",
       "      <td>2022-04-01</td>\n",
       "      <td>3</td>\n",
       "      <td>9</td>\n",
       "    </tr>\n",
       "    <tr>\n",
       "      <th>2022-04-01 04:00:00+00:00</th>\n",
       "      <td>2022-04-01</td>\n",
       "      <td>4</td>\n",
       "      <td>53</td>\n",
       "    </tr>\n",
       "    <tr>\n",
       "      <th>2022-04-01 05:00:00+00:00</th>\n",
       "      <td>2022-04-01</td>\n",
       "      <td>5</td>\n",
       "      <td>212</td>\n",
       "    </tr>\n",
       "    <tr>\n",
       "      <th>2022-04-01 06:00:00+00:00</th>\n",
       "      <td>2022-04-01</td>\n",
       "      <td>6</td>\n",
       "      <td>336</td>\n",
       "    </tr>\n",
       "    <tr>\n",
       "      <th>2022-04-01 07:00:00+00:00</th>\n",
       "      <td>2022-04-01</td>\n",
       "      <td>7</td>\n",
       "      <td>166</td>\n",
       "    </tr>\n",
       "    <tr>\n",
       "      <th>...</th>\n",
       "      <td>...</td>\n",
       "      <td>...</td>\n",
       "      <td>...</td>\n",
       "    </tr>\n",
       "    <tr>\n",
       "      <th>2022-07-31 18:00:00+00:00</th>\n",
       "      <td>2022-07-31</td>\n",
       "      <td>18</td>\n",
       "      <td>116</td>\n",
       "    </tr>\n",
       "    <tr>\n",
       "      <th>2022-07-31 19:00:00+00:00</th>\n",
       "      <td>2022-07-31</td>\n",
       "      <td>19</td>\n",
       "      <td>51</td>\n",
       "    </tr>\n",
       "    <tr>\n",
       "      <th>2022-07-31 20:00:00+00:00</th>\n",
       "      <td>2022-07-31</td>\n",
       "      <td>20</td>\n",
       "      <td>39</td>\n",
       "    </tr>\n",
       "    <tr>\n",
       "      <th>2022-07-31 21:00:00+00:00</th>\n",
       "      <td>2022-07-31</td>\n",
       "      <td>21</td>\n",
       "      <td>21</td>\n",
       "    </tr>\n",
       "    <tr>\n",
       "      <th>2022-07-31 22:00:00+00:00</th>\n",
       "      <td>2022-07-31</td>\n",
       "      <td>22</td>\n",
       "      <td>16</td>\n",
       "    </tr>\n",
       "  </tbody>\n",
       "</table>\n",
       "<p>2924 rows × 3 columns</p>\n",
       "</div>"
      ],
      "text/plain": [
       "                                 date  hour  count\n",
       "started_at                                        \n",
       "2022-04-01 03:00:00+00:00  2022-04-01     3      9\n",
       "2022-04-01 04:00:00+00:00  2022-04-01     4     53\n",
       "2022-04-01 05:00:00+00:00  2022-04-01     5    212\n",
       "2022-04-01 06:00:00+00:00  2022-04-01     6    336\n",
       "2022-04-01 07:00:00+00:00  2022-04-01     7    166\n",
       "...                               ...   ...    ...\n",
       "2022-07-31 18:00:00+00:00  2022-07-31    18    116\n",
       "2022-07-31 19:00:00+00:00  2022-07-31    19     51\n",
       "2022-07-31 20:00:00+00:00  2022-07-31    20     39\n",
       "2022-07-31 21:00:00+00:00  2022-07-31    21     21\n",
       "2022-07-31 22:00:00+00:00  2022-07-31    22     16\n",
       "\n",
       "[2924 rows x 3 columns]"
      ]
     },
     "execution_count": 42,
     "metadata": {},
     "output_type": "execute_result"
    }
   ],
   "source": [
    "df_hour"
   ]
  },
  {
   "cell_type": "code",
   "execution_count": 45,
   "id": "b9e7fb27-7d06-4563-9eb6-91f653271a41",
   "metadata": {},
   "outputs": [],
   "source": [
    "hourly = df_hour.pivot(index='date', columns='hour', values='count').fillna(0)"
   ]
  },
  {
   "cell_type": "code",
   "execution_count": 46,
   "id": "22bcf5ce-0f5d-4073-a726-0e17be742ebc",
   "metadata": {},
   "outputs": [
    {
     "data": {
      "text/html": [
       "<div>\n",
       "<style scoped>\n",
       "    .dataframe tbody tr th:only-of-type {\n",
       "        vertical-align: middle;\n",
       "    }\n",
       "\n",
       "    .dataframe tbody tr th {\n",
       "        vertical-align: top;\n",
       "    }\n",
       "\n",
       "    .dataframe thead th {\n",
       "        text-align: right;\n",
       "    }\n",
       "</style>\n",
       "<table border=\"1\" class=\"dataframe\">\n",
       "  <thead>\n",
       "    <tr style=\"text-align: right;\">\n",
       "      <th>hour</th>\n",
       "      <th>0</th>\n",
       "      <th>1</th>\n",
       "      <th>2</th>\n",
       "      <th>3</th>\n",
       "      <th>4</th>\n",
       "      <th>5</th>\n",
       "      <th>6</th>\n",
       "      <th>7</th>\n",
       "      <th>8</th>\n",
       "      <th>9</th>\n",
       "      <th>...</th>\n",
       "      <th>14</th>\n",
       "      <th>15</th>\n",
       "      <th>16</th>\n",
       "      <th>17</th>\n",
       "      <th>18</th>\n",
       "      <th>19</th>\n",
       "      <th>20</th>\n",
       "      <th>21</th>\n",
       "      <th>22</th>\n",
       "      <th>23</th>\n",
       "    </tr>\n",
       "    <tr>\n",
       "      <th>date</th>\n",
       "      <th></th>\n",
       "      <th></th>\n",
       "      <th></th>\n",
       "      <th></th>\n",
       "      <th></th>\n",
       "      <th></th>\n",
       "      <th></th>\n",
       "      <th></th>\n",
       "      <th></th>\n",
       "      <th></th>\n",
       "      <th></th>\n",
       "      <th></th>\n",
       "      <th></th>\n",
       "      <th></th>\n",
       "      <th></th>\n",
       "      <th></th>\n",
       "      <th></th>\n",
       "      <th></th>\n",
       "      <th></th>\n",
       "      <th></th>\n",
       "      <th></th>\n",
       "    </tr>\n",
       "  </thead>\n",
       "  <tbody>\n",
       "    <tr>\n",
       "      <th>2022-04-01</th>\n",
       "      <td>0.0</td>\n",
       "      <td>0.0</td>\n",
       "      <td>0.0</td>\n",
       "      <td>9.0</td>\n",
       "      <td>53.0</td>\n",
       "      <td>212.0</td>\n",
       "      <td>336.0</td>\n",
       "      <td>166.0</td>\n",
       "      <td>115.0</td>\n",
       "      <td>93.0</td>\n",
       "      <td>...</td>\n",
       "      <td>292.0</td>\n",
       "      <td>213.0</td>\n",
       "      <td>199.0</td>\n",
       "      <td>136.0</td>\n",
       "      <td>107.0</td>\n",
       "      <td>66.0</td>\n",
       "      <td>66.0</td>\n",
       "      <td>67.0</td>\n",
       "      <td>58.0</td>\n",
       "      <td>0.0</td>\n",
       "    </tr>\n",
       "    <tr>\n",
       "      <th>2022-04-02</th>\n",
       "      <td>0.0</td>\n",
       "      <td>0.0</td>\n",
       "      <td>0.0</td>\n",
       "      <td>6.0</td>\n",
       "      <td>11.0</td>\n",
       "      <td>23.0</td>\n",
       "      <td>34.0</td>\n",
       "      <td>60.0</td>\n",
       "      <td>125.0</td>\n",
       "      <td>164.0</td>\n",
       "      <td>...</td>\n",
       "      <td>199.0</td>\n",
       "      <td>228.0</td>\n",
       "      <td>208.0</td>\n",
       "      <td>166.0</td>\n",
       "      <td>63.0</td>\n",
       "      <td>48.0</td>\n",
       "      <td>62.0</td>\n",
       "      <td>92.0</td>\n",
       "      <td>49.0</td>\n",
       "      <td>1.0</td>\n",
       "    </tr>\n",
       "    <tr>\n",
       "      <th>2022-04-03</th>\n",
       "      <td>0.0</td>\n",
       "      <td>0.0</td>\n",
       "      <td>0.0</td>\n",
       "      <td>5.0</td>\n",
       "      <td>9.0</td>\n",
       "      <td>27.0</td>\n",
       "      <td>22.0</td>\n",
       "      <td>60.0</td>\n",
       "      <td>90.0</td>\n",
       "      <td>151.0</td>\n",
       "      <td>...</td>\n",
       "      <td>147.0</td>\n",
       "      <td>165.0</td>\n",
       "      <td>145.0</td>\n",
       "      <td>100.0</td>\n",
       "      <td>79.0</td>\n",
       "      <td>80.0</td>\n",
       "      <td>48.0</td>\n",
       "      <td>36.0</td>\n",
       "      <td>9.0</td>\n",
       "      <td>0.0</td>\n",
       "    </tr>\n",
       "    <tr>\n",
       "      <th>2022-04-04</th>\n",
       "      <td>0.0</td>\n",
       "      <td>0.0</td>\n",
       "      <td>0.0</td>\n",
       "      <td>9.0</td>\n",
       "      <td>43.0</td>\n",
       "      <td>157.0</td>\n",
       "      <td>172.0</td>\n",
       "      <td>74.0</td>\n",
       "      <td>43.0</td>\n",
       "      <td>48.0</td>\n",
       "      <td>...</td>\n",
       "      <td>320.0</td>\n",
       "      <td>289.0</td>\n",
       "      <td>237.0</td>\n",
       "      <td>174.0</td>\n",
       "      <td>145.0</td>\n",
       "      <td>103.0</td>\n",
       "      <td>79.0</td>\n",
       "      <td>29.0</td>\n",
       "      <td>16.0</td>\n",
       "      <td>0.0</td>\n",
       "    </tr>\n",
       "    <tr>\n",
       "      <th>2022-04-05</th>\n",
       "      <td>0.0</td>\n",
       "      <td>0.0</td>\n",
       "      <td>0.0</td>\n",
       "      <td>13.0</td>\n",
       "      <td>94.0</td>\n",
       "      <td>318.0</td>\n",
       "      <td>512.0</td>\n",
       "      <td>202.0</td>\n",
       "      <td>121.0</td>\n",
       "      <td>114.0</td>\n",
       "      <td>...</td>\n",
       "      <td>406.0</td>\n",
       "      <td>370.0</td>\n",
       "      <td>282.0</td>\n",
       "      <td>221.0</td>\n",
       "      <td>150.0</td>\n",
       "      <td>117.0</td>\n",
       "      <td>128.0</td>\n",
       "      <td>51.0</td>\n",
       "      <td>28.0</td>\n",
       "      <td>0.0</td>\n",
       "    </tr>\n",
       "    <tr>\n",
       "      <th>...</th>\n",
       "      <td>...</td>\n",
       "      <td>...</td>\n",
       "      <td>...</td>\n",
       "      <td>...</td>\n",
       "      <td>...</td>\n",
       "      <td>...</td>\n",
       "      <td>...</td>\n",
       "      <td>...</td>\n",
       "      <td>...</td>\n",
       "      <td>...</td>\n",
       "      <td>...</td>\n",
       "      <td>...</td>\n",
       "      <td>...</td>\n",
       "      <td>...</td>\n",
       "      <td>...</td>\n",
       "      <td>...</td>\n",
       "      <td>...</td>\n",
       "      <td>...</td>\n",
       "      <td>...</td>\n",
       "      <td>...</td>\n",
       "      <td>...</td>\n",
       "    </tr>\n",
       "    <tr>\n",
       "      <th>2022-07-27</th>\n",
       "      <td>0.0</td>\n",
       "      <td>0.0</td>\n",
       "      <td>0.0</td>\n",
       "      <td>28.0</td>\n",
       "      <td>77.0</td>\n",
       "      <td>255.0</td>\n",
       "      <td>367.0</td>\n",
       "      <td>224.0</td>\n",
       "      <td>252.0</td>\n",
       "      <td>354.0</td>\n",
       "      <td>...</td>\n",
       "      <td>642.0</td>\n",
       "      <td>549.0</td>\n",
       "      <td>504.0</td>\n",
       "      <td>424.0</td>\n",
       "      <td>344.0</td>\n",
       "      <td>304.0</td>\n",
       "      <td>259.0</td>\n",
       "      <td>172.0</td>\n",
       "      <td>82.0</td>\n",
       "      <td>0.0</td>\n",
       "    </tr>\n",
       "    <tr>\n",
       "      <th>2022-07-28</th>\n",
       "      <td>0.0</td>\n",
       "      <td>0.0</td>\n",
       "      <td>0.0</td>\n",
       "      <td>19.0</td>\n",
       "      <td>67.0</td>\n",
       "      <td>247.0</td>\n",
       "      <td>353.0</td>\n",
       "      <td>218.0</td>\n",
       "      <td>240.0</td>\n",
       "      <td>285.0</td>\n",
       "      <td>...</td>\n",
       "      <td>580.0</td>\n",
       "      <td>569.0</td>\n",
       "      <td>454.0</td>\n",
       "      <td>367.0</td>\n",
       "      <td>360.0</td>\n",
       "      <td>273.0</td>\n",
       "      <td>228.0</td>\n",
       "      <td>132.0</td>\n",
       "      <td>70.0</td>\n",
       "      <td>1.0</td>\n",
       "    </tr>\n",
       "    <tr>\n",
       "      <th>2022-07-29</th>\n",
       "      <td>0.0</td>\n",
       "      <td>0.0</td>\n",
       "      <td>0.0</td>\n",
       "      <td>26.0</td>\n",
       "      <td>69.0</td>\n",
       "      <td>215.0</td>\n",
       "      <td>296.0</td>\n",
       "      <td>221.0</td>\n",
       "      <td>278.0</td>\n",
       "      <td>376.0</td>\n",
       "      <td>...</td>\n",
       "      <td>507.0</td>\n",
       "      <td>451.0</td>\n",
       "      <td>435.0</td>\n",
       "      <td>418.0</td>\n",
       "      <td>303.0</td>\n",
       "      <td>293.0</td>\n",
       "      <td>231.0</td>\n",
       "      <td>176.0</td>\n",
       "      <td>110.0</td>\n",
       "      <td>0.0</td>\n",
       "    </tr>\n",
       "    <tr>\n",
       "      <th>2022-07-30</th>\n",
       "      <td>0.0</td>\n",
       "      <td>0.0</td>\n",
       "      <td>0.0</td>\n",
       "      <td>9.0</td>\n",
       "      <td>10.0</td>\n",
       "      <td>26.0</td>\n",
       "      <td>30.0</td>\n",
       "      <td>70.0</td>\n",
       "      <td>142.0</td>\n",
       "      <td>170.0</td>\n",
       "      <td>...</td>\n",
       "      <td>230.0</td>\n",
       "      <td>241.0</td>\n",
       "      <td>214.0</td>\n",
       "      <td>162.0</td>\n",
       "      <td>135.0</td>\n",
       "      <td>113.0</td>\n",
       "      <td>107.0</td>\n",
       "      <td>94.0</td>\n",
       "      <td>74.0</td>\n",
       "      <td>0.0</td>\n",
       "    </tr>\n",
       "    <tr>\n",
       "      <th>2022-07-31</th>\n",
       "      <td>0.0</td>\n",
       "      <td>0.0</td>\n",
       "      <td>0.0</td>\n",
       "      <td>15.0</td>\n",
       "      <td>6.0</td>\n",
       "      <td>26.0</td>\n",
       "      <td>34.0</td>\n",
       "      <td>49.0</td>\n",
       "      <td>99.0</td>\n",
       "      <td>134.0</td>\n",
       "      <td>...</td>\n",
       "      <td>155.0</td>\n",
       "      <td>158.0</td>\n",
       "      <td>142.0</td>\n",
       "      <td>127.0</td>\n",
       "      <td>116.0</td>\n",
       "      <td>51.0</td>\n",
       "      <td>39.0</td>\n",
       "      <td>21.0</td>\n",
       "      <td>16.0</td>\n",
       "      <td>0.0</td>\n",
       "    </tr>\n",
       "  </tbody>\n",
       "</table>\n",
       "<p>122 rows × 24 columns</p>\n",
       "</div>"
      ],
      "text/plain": [
       "hour         0    1    2     3     4      5      6      7      8      9   ...  \\\n",
       "date                                                                      ...   \n",
       "2022-04-01  0.0  0.0  0.0   9.0  53.0  212.0  336.0  166.0  115.0   93.0  ...   \n",
       "2022-04-02  0.0  0.0  0.0   6.0  11.0   23.0   34.0   60.0  125.0  164.0  ...   \n",
       "2022-04-03  0.0  0.0  0.0   5.0   9.0   27.0   22.0   60.0   90.0  151.0  ...   \n",
       "2022-04-04  0.0  0.0  0.0   9.0  43.0  157.0  172.0   74.0   43.0   48.0  ...   \n",
       "2022-04-05  0.0  0.0  0.0  13.0  94.0  318.0  512.0  202.0  121.0  114.0  ...   \n",
       "...         ...  ...  ...   ...   ...    ...    ...    ...    ...    ...  ...   \n",
       "2022-07-27  0.0  0.0  0.0  28.0  77.0  255.0  367.0  224.0  252.0  354.0  ...   \n",
       "2022-07-28  0.0  0.0  0.0  19.0  67.0  247.0  353.0  218.0  240.0  285.0  ...   \n",
       "2022-07-29  0.0  0.0  0.0  26.0  69.0  215.0  296.0  221.0  278.0  376.0  ...   \n",
       "2022-07-30  0.0  0.0  0.0   9.0  10.0   26.0   30.0   70.0  142.0  170.0  ...   \n",
       "2022-07-31  0.0  0.0  0.0  15.0   6.0   26.0   34.0   49.0   99.0  134.0  ...   \n",
       "\n",
       "hour           14     15     16     17     18     19     20     21     22   23  \n",
       "date                                                                            \n",
       "2022-04-01  292.0  213.0  199.0  136.0  107.0   66.0   66.0   67.0   58.0  0.0  \n",
       "2022-04-02  199.0  228.0  208.0  166.0   63.0   48.0   62.0   92.0   49.0  1.0  \n",
       "2022-04-03  147.0  165.0  145.0  100.0   79.0   80.0   48.0   36.0    9.0  0.0  \n",
       "2022-04-04  320.0  289.0  237.0  174.0  145.0  103.0   79.0   29.0   16.0  0.0  \n",
       "2022-04-05  406.0  370.0  282.0  221.0  150.0  117.0  128.0   51.0   28.0  0.0  \n",
       "...           ...    ...    ...    ...    ...    ...    ...    ...    ...  ...  \n",
       "2022-07-27  642.0  549.0  504.0  424.0  344.0  304.0  259.0  172.0   82.0  0.0  \n",
       "2022-07-28  580.0  569.0  454.0  367.0  360.0  273.0  228.0  132.0   70.0  1.0  \n",
       "2022-07-29  507.0  451.0  435.0  418.0  303.0  293.0  231.0  176.0  110.0  0.0  \n",
       "2022-07-30  230.0  241.0  214.0  162.0  135.0  113.0  107.0   94.0   74.0  0.0  \n",
       "2022-07-31  155.0  158.0  142.0  127.0  116.0   51.0   39.0   21.0   16.0  0.0  \n",
       "\n",
       "[122 rows x 24 columns]"
      ]
     },
     "execution_count": 46,
     "metadata": {},
     "output_type": "execute_result"
    }
   ],
   "source": [
    "hourly"
   ]
  },
  {
   "cell_type": "code",
   "execution_count": 48,
   "id": "230311de-bb0a-4333-8b51-84ed7b6d995f",
   "metadata": {},
   "outputs": [
    {
     "data": {
      "text/plain": [
       "<AxesSubplot:xlabel='hour'>"
      ]
     },
     "execution_count": 48,
     "metadata": {},
     "output_type": "execute_result"
    },
    {
     "data": {
      "image/png": "[encoded data removed]",
      "text/plain": [
       "<Figure size 432x288 with 1 Axes>"
      ]
     },
     "metadata": {
      "needs_background": "light"
     },
     "output_type": "display_data"
    }
   ],
   "source": [
    "hourly.T.plot.line(legend=False)"
   ]
  },
  {
   "cell_type": "code",
   "execution_count": 49,
   "id": "f79fdfa1-cffc-4358-a5c9-4d884a363dbf",
   "metadata": {},
   "outputs": [],
   "source": [
    "from sklearn.cluster import KMeans"
   ]
  },
  {
   "cell_type": "code",
   "execution_count": 50,
   "id": "207ba373-46c6-41ea-a779-5a9aa243f6b1",
   "metadata": {},
   "outputs": [],
   "source": [
    "ks = list(range(1, 7))\n",
    "scores = [KMeans(n_clusters=k).fit(hourly).inertia_ for k in ks]"
   ]
  },
  {
   "cell_type": "code",
   "execution_count": 51,
   "id": "323ab345-9d7f-45ac-9c19-4fe8b029e007",
   "metadata": {},
   "outputs": [
    {
     "data": {
      "text/plain": [
       "[<matplotlib.lines.Line2D at 0x2ad1954b0>]"
      ]
     },
     "execution_count": 51,
     "metadata": {},
     "output_type": "execute_result"
    },
    {
     "data": {
      "image/png": "[encoded data removed]",
      "text/plain": [
       "<Figure size 432x288 with 1 Axes>"
      ]
     },
     "metadata": {
      "needs_background": "light"
     },
     "output_type": "display_data"
    }
   ],
   "source": [
    "plt.plot(ks, scores)"
   ]
  },
  {
   "cell_type": "code",
   "execution_count": 52,
   "id": "a5737aec-9143-43a4-879b-a185ddbccec8",
   "metadata": {},
   "outputs": [],
   "source": [
    "model = KMeans(n_clusters=2).fit(hourly)"
   ]
  },
  {
   "cell_type": "code",
   "execution_count": 55,
   "id": "c340545c-68ec-4b2f-a187-647050369466",
   "metadata": {},
   "outputs": [
    {
     "data": {
      "image/png": "[encoded data removed]",
      "text/plain": [
       "<Figure size 432x288 with 1 Axes>"
      ]
     },
     "metadata": {
      "needs_background": "light"
     },
     "output_type": "display_data"
    }
   ],
   "source": [
    "plt.plot(model.cluster_centers_.T)\n",
    "None"
   ]
  },
  {
   "cell_type": "code",
   "execution_count": 56,
   "id": "0f41330f-68c9-4696-a099-99ca5eed2d3c",
   "metadata": {},
   "outputs": [
    {
     "data": {
      "text/plain": [
       "18757680.72370191"
      ]
     },
     "execution_count": 56,
     "metadata": {},
     "output_type": "execute_result"
    }
   ],
   "source": [
    "model.inertia_"
   ]
  },
  {
   "cell_type": "code",
   "execution_count": 57,
   "id": "3c8e1558-5f56-470f-8553-5554a7ab0e0f",
   "metadata": {},
   "outputs": [
    {
     "data": {
      "text/plain": [
       "array([1, 1, 1, 1, 1, 1, 1, 1, 1, 1, 1, 1, 1, 1, 1, 1, 1, 1, 0, 0, 0, 0,\n",
       "       1, 1, 0, 0, 0, 0, 0, 1, 1, 0, 0, 0, 0, 0, 1, 1, 0, 0, 0, 0, 0, 1,\n",
       "       1, 0, 1, 0, 0, 0, 1, 1, 0, 0, 0, 1, 1, 1, 1, 0, 0, 0, 0, 0, 1, 1,\n",
       "       1, 0, 0, 0, 0, 1, 1, 0, 0, 0, 0, 0, 1, 1, 0, 0, 0, 0, 0, 1, 1, 0,\n",
       "       0, 0, 0, 0, 1, 1, 0, 0, 0, 0, 0, 1, 1, 0, 0, 0, 1, 1, 1, 1, 1, 0,\n",
       "       0, 1, 1, 1, 1, 1, 0, 0, 0, 1, 1, 1], dtype=int32)"
      ]
     },
     "execution_count": 57,
     "metadata": {},
     "output_type": "execute_result"
    }
   ],
   "source": [
    "model.labels_"
   ]
  },
  {
   "cell_type": "code",
   "execution_count": 62,
   "id": "d4116792-8b8b-4025-8701-41e78adf8a12",
   "metadata": {},
   "outputs": [],
   "source": [
    "days0 = hourly[model.labels_ == 0].index"
   ]
  },
  {
   "cell_type": "code",
   "execution_count": 63,
   "id": "53eb42ee-bc90-4059-b811-f9df720312f1",
   "metadata": {},
   "outputs": [],
   "source": [
    "grp0 = data['started_at'].dt.date.isin(days0)"
   ]
  },
  {
   "cell_type": "code",
   "execution_count": 64,
   "id": "ca1d57e1-e729-421b-88d3-ba9bac71d550",
   "metadata": {},
   "outputs": [
    {
     "data": {
      "text/plain": [
       "46696      168\n",
       "46697      606\n",
       "46698      500\n",
       "46699      451\n",
       "46700      140\n",
       "          ... \n",
       "148467     973\n",
       "148468     541\n",
       "148469     640\n",
       "148470    1897\n",
       "148471     421\n",
       "Name: duration, Length: 409393, dtype: int64"
      ]
     },
     "execution_count": 64,
     "metadata": {},
     "output_type": "execute_result"
    }
   ],
   "source": [
    "data[grp0]['duration']"
   ]
  },
  {
   "cell_type": "code",
   "execution_count": 69,
   "id": "b9721eb0-055d-42b3-b082-ee204065e7da",
   "metadata": {},
   "outputs": [
    {
     "data": {
      "image/png": "[encoded data removed]",
      "text/plain": [
       "<Figure size 432x288 with 1 Axes>"
      ]
     },
     "metadata": {
      "needs_background": "light"
     },
     "output_type": "display_data"
    }
   ],
   "source": [
    "numpy.log(data['duration']).groupby(grp0).plot.hist(alpha=0.4, bins=50, density=True)\n",
    "None"
   ]
  },
  {
   "cell_type": "markdown",
   "id": "4acbe426-0326-4af5-9af2-3853afea3390",
   "metadata": {},
   "source": [
    "# Randomization"
   ]
  },
  {
   "cell_type": "code",
   "execution_count": 70,
   "id": "81be0d71-e4ca-4f32-83be-5bd5b9cfda86",
   "metadata": {},
   "outputs": [],
   "source": [
    "values = numpy.random.choice([0, 1], 1000) # p = 0.5"
   ]
  },
  {
   "cell_type": "code",
   "execution_count": 71,
   "id": "bfc59027-8363-4138-9850-a692aa734e55",
   "metadata": {},
   "outputs": [
    {
     "data": {
      "text/plain": [
       "0.51"
      ]
     },
     "execution_count": 71,
     "metadata": {},
     "output_type": "execute_result"
    }
   ],
   "source": [
    "values.mean()"
   ]
  },
  {
   "cell_type": "code",
   "execution_count": 72,
   "id": "ee92952c-3029-45b3-98cb-23d1b5b412b9",
   "metadata": {},
   "outputs": [
    {
     "data": {
      "text/plain": [
       "(1000,)"
      ]
     },
     "execution_count": 72,
     "metadata": {},
     "output_type": "execute_result"
    }
   ],
   "source": [
    "values.shape"
   ]
  },
  {
   "cell_type": "code",
   "execution_count": 73,
   "id": "459a4c92-e8b0-4a77-bd2e-06994b9122bb",
   "metadata": {},
   "outputs": [],
   "source": [
    "def randomize(a, theta):\n",
    "    coins = numpy.random.choice([True, False], p=(theta, 1-theta), size=a.shape)\n",
    "    noise = numpy.random.choice([0, 1], size=a.shape)\n",
    "    response = numpy.array(a)\n",
    "    response[~coins] = noise[~coins]\n",
    "    return response"
   ]
  },
  {
   "cell_type": "code",
   "execution_count": 74,
   "id": "3de7b450-781f-434b-be75-37eb05754196",
   "metadata": {},
   "outputs": [
    {
     "data": {
      "text/plain": [
       "0.51"
      ]
     },
     "execution_count": 74,
     "metadata": {},
     "output_type": "execute_result"
    }
   ],
   "source": [
    "values.mean()"
   ]
  },
  {
   "cell_type": "code",
   "execution_count": 75,
   "id": "79b72be6-14d3-4a73-8200-a439a555c19c",
   "metadata": {},
   "outputs": [
    {
     "data": {
      "text/plain": [
       "0.508"
      ]
     },
     "execution_count": 75,
     "metadata": {},
     "output_type": "execute_result"
    }
   ],
   "source": [
    "randomize(values, 0.8).mean()"
   ]
  },
  {
   "cell_type": "code",
   "execution_count": 79,
   "id": "91ab4295-f5b3-49af-87aa-d02fba64055b",
   "metadata": {},
   "outputs": [],
   "source": [
    "values = numpy.random.choice([0, 1], p=[0.8, 0.2], size=1000) # p = 0.2"
   ]
  },
  {
   "cell_type": "code",
   "execution_count": 80,
   "id": "11e5d182-fdc4-48f4-9635-ff3fbb7476d1",
   "metadata": {},
   "outputs": [
    {
     "data": {
      "text/plain": [
       "0.189"
      ]
     },
     "execution_count": 80,
     "metadata": {},
     "output_type": "execute_result"
    }
   ],
   "source": [
    "values.mean()"
   ]
  },
  {
   "cell_type": "code",
   "execution_count": 83,
   "id": "bd9cca35-ce10-4b05-991e-9bcadd0f2585",
   "metadata": {},
   "outputs": [
    {
     "data": {
      "text/plain": [
       "0.257"
      ]
     },
     "execution_count": 83,
     "metadata": {},
     "output_type": "execute_result"
    }
   ],
   "source": [
    "randomize(values, 0.8).mean()"
   ]
  },
  {
   "cell_type": "code",
   "execution_count": 82,
   "id": "dc5a568a-cffb-4cd7-95d0-903edb33b041",
   "metadata": {},
   "outputs": [
    {
     "data": {
      "text/plain": [
       "0.26"
      ]
     },
     "execution_count": 82,
     "metadata": {},
     "output_type": "execute_result"
    }
   ],
   "source": [
    "# theta * p + (1 - 0.8)\n",
    "0.8 * 0.2 + (1 - 0.8)*0.5"
   ]
  },
  {
   "cell_type": "code",
   "execution_count": 84,
   "id": "043b528a-ff39-44a3-a3d7-1f4c29345fa1",
   "metadata": {},
   "outputs": [],
   "source": [
    "from sklearn.pipeline import Pipeline\n",
    "from sklearn.compose import ColumnTransformer\n",
    "from sklearn.preprocessing import FunctionTransformer\n",
    "from sklearn.tree import DecisionTreeClassifier\n",
    "from sklearn.model_selection import cross_val_score"
   ]
  },
  {
   "cell_type": "code",
   "execution_count": 85,
   "id": "f67b0d9e-24f8-4cc1-897d-2838283d8ad9",
   "metadata": {},
   "outputs": [],
   "source": [
    "df = pandas.read_csv('data/income_data.csv')"
   ]
  },
  {
   "cell_type": "code",
   "execution_count": 86,
   "id": "90035fc4-86a9-4dba-bdf5-c3f43f2e8c97",
   "metadata": {},
   "outputs": [
    {
     "data": {
      "text/html": [
       "<div>\n",
       "<style scoped>\n",
       "    .dataframe tbody tr th:only-of-type {\n",
       "        vertical-align: middle;\n",
       "    }\n",
       "\n",
       "    .dataframe tbody tr th {\n",
       "        vertical-align: top;\n",
       "    }\n",
       "\n",
       "    .dataframe thead th {\n",
       "        text-align: right;\n",
       "    }\n",
       "</style>\n",
       "<table border=\"1\" class=\"dataframe\">\n",
       "  <thead>\n",
       "    <tr style=\"text-align: right;\">\n",
       "      <th></th>\n",
       "      <th>age</th>\n",
       "      <th>workclass</th>\n",
       "      <th>fnlwgt</th>\n",
       "      <th>education</th>\n",
       "      <th>education-num</th>\n",
       "      <th>marital-status</th>\n",
       "      <th>occupation</th>\n",
       "      <th>relationship</th>\n",
       "      <th>race</th>\n",
       "      <th>sex</th>\n",
       "      <th>capital-gain</th>\n",
       "      <th>capital-loss</th>\n",
       "      <th>hours-per-week</th>\n",
       "      <th>native-country</th>\n",
       "      <th>income</th>\n",
       "      <th>target</th>\n",
       "    </tr>\n",
       "  </thead>\n",
       "  <tbody>\n",
       "    <tr>\n",
       "      <th>0</th>\n",
       "      <td>39</td>\n",
       "      <td>State-gov</td>\n",
       "      <td>77516</td>\n",
       "      <td>Bachelors</td>\n",
       "      <td>13</td>\n",
       "      <td>Never-married</td>\n",
       "      <td>Adm-clerical</td>\n",
       "      <td>Not-in-family</td>\n",
       "      <td>White</td>\n",
       "      <td>Male</td>\n",
       "      <td>2174</td>\n",
       "      <td>0</td>\n",
       "      <td>40</td>\n",
       "      <td>United-States</td>\n",
       "      <td>&lt;=50K</td>\n",
       "      <td>0</td>\n",
       "    </tr>\n",
       "    <tr>\n",
       "      <th>1</th>\n",
       "      <td>50</td>\n",
       "      <td>Self-emp-not-inc</td>\n",
       "      <td>83311</td>\n",
       "      <td>Bachelors</td>\n",
       "      <td>13</td>\n",
       "      <td>Married-civ-spouse</td>\n",
       "      <td>Exec-managerial</td>\n",
       "      <td>Husband</td>\n",
       "      <td>White</td>\n",
       "      <td>Male</td>\n",
       "      <td>0</td>\n",
       "      <td>0</td>\n",
       "      <td>13</td>\n",
       "      <td>United-States</td>\n",
       "      <td>&lt;=50K</td>\n",
       "      <td>0</td>\n",
       "    </tr>\n",
       "    <tr>\n",
       "      <th>2</th>\n",
       "      <td>38</td>\n",
       "      <td>Private</td>\n",
       "      <td>215646</td>\n",
       "      <td>HS-grad</td>\n",
       "      <td>9</td>\n",
       "      <td>Divorced</td>\n",
       "      <td>Handlers-cleaners</td>\n",
       "      <td>Not-in-family</td>\n",
       "      <td>White</td>\n",
       "      <td>Male</td>\n",
       "      <td>0</td>\n",
       "      <td>0</td>\n",
       "      <td>40</td>\n",
       "      <td>United-States</td>\n",
       "      <td>&lt;=50K</td>\n",
       "      <td>0</td>\n",
       "    </tr>\n",
       "    <tr>\n",
       "      <th>3</th>\n",
       "      <td>53</td>\n",
       "      <td>Private</td>\n",
       "      <td>234721</td>\n",
       "      <td>11th</td>\n",
       "      <td>7</td>\n",
       "      <td>Married-civ-spouse</td>\n",
       "      <td>Handlers-cleaners</td>\n",
       "      <td>Husband</td>\n",
       "      <td>Black</td>\n",
       "      <td>Male</td>\n",
       "      <td>0</td>\n",
       "      <td>0</td>\n",
       "      <td>40</td>\n",
       "      <td>United-States</td>\n",
       "      <td>&lt;=50K</td>\n",
       "      <td>0</td>\n",
       "    </tr>\n",
       "    <tr>\n",
       "      <th>4</th>\n",
       "      <td>28</td>\n",
       "      <td>Private</td>\n",
       "      <td>338409</td>\n",
       "      <td>Bachelors</td>\n",
       "      <td>13</td>\n",
       "      <td>Married-civ-spouse</td>\n",
       "      <td>Prof-specialty</td>\n",
       "      <td>Wife</td>\n",
       "      <td>Black</td>\n",
       "      <td>Female</td>\n",
       "      <td>0</td>\n",
       "      <td>0</td>\n",
       "      <td>40</td>\n",
       "      <td>Cuba</td>\n",
       "      <td>&lt;=50K</td>\n",
       "      <td>0</td>\n",
       "    </tr>\n",
       "    <tr>\n",
       "      <th>...</th>\n",
       "      <td>...</td>\n",
       "      <td>...</td>\n",
       "      <td>...</td>\n",
       "      <td>...</td>\n",
       "      <td>...</td>\n",
       "      <td>...</td>\n",
       "      <td>...</td>\n",
       "      <td>...</td>\n",
       "      <td>...</td>\n",
       "      <td>...</td>\n",
       "      <td>...</td>\n",
       "      <td>...</td>\n",
       "      <td>...</td>\n",
       "      <td>...</td>\n",
       "      <td>...</td>\n",
       "      <td>...</td>\n",
       "    </tr>\n",
       "    <tr>\n",
       "      <th>32556</th>\n",
       "      <td>27</td>\n",
       "      <td>Private</td>\n",
       "      <td>257302</td>\n",
       "      <td>Assoc-acdm</td>\n",
       "      <td>12</td>\n",
       "      <td>Married-civ-spouse</td>\n",
       "      <td>Tech-support</td>\n",
       "      <td>Wife</td>\n",
       "      <td>White</td>\n",
       "      <td>Female</td>\n",
       "      <td>0</td>\n",
       "      <td>0</td>\n",
       "      <td>38</td>\n",
       "      <td>United-States</td>\n",
       "      <td>&lt;=50K</td>\n",
       "      <td>0</td>\n",
       "    </tr>\n",
       "    <tr>\n",
       "      <th>32557</th>\n",
       "      <td>40</td>\n",
       "      <td>Private</td>\n",
       "      <td>154374</td>\n",
       "      <td>HS-grad</td>\n",
       "      <td>9</td>\n",
       "      <td>Married-civ-spouse</td>\n",
       "      <td>Machine-op-inspct</td>\n",
       "      <td>Husband</td>\n",
       "      <td>White</td>\n",
       "      <td>Male</td>\n",
       "      <td>0</td>\n",
       "      <td>0</td>\n",
       "      <td>40</td>\n",
       "      <td>United-States</td>\n",
       "      <td>&gt;50K</td>\n",
       "      <td>1</td>\n",
       "    </tr>\n",
       "    <tr>\n",
       "      <th>32558</th>\n",
       "      <td>58</td>\n",
       "      <td>Private</td>\n",
       "      <td>151910</td>\n",
       "      <td>HS-grad</td>\n",
       "      <td>9</td>\n",
       "      <td>Widowed</td>\n",
       "      <td>Adm-clerical</td>\n",
       "      <td>Unmarried</td>\n",
       "      <td>White</td>\n",
       "      <td>Female</td>\n",
       "      <td>0</td>\n",
       "      <td>0</td>\n",
       "      <td>40</td>\n",
       "      <td>United-States</td>\n",
       "      <td>&lt;=50K</td>\n",
       "      <td>0</td>\n",
       "    </tr>\n",
       "    <tr>\n",
       "      <th>32559</th>\n",
       "      <td>22</td>\n",
       "      <td>Private</td>\n",
       "      <td>201490</td>\n",
       "      <td>HS-grad</td>\n",
       "      <td>9</td>\n",
       "      <td>Never-married</td>\n",
       "      <td>Adm-clerical</td>\n",
       "      <td>Own-child</td>\n",
       "      <td>White</td>\n",
       "      <td>Male</td>\n",
       "      <td>0</td>\n",
       "      <td>0</td>\n",
       "      <td>20</td>\n",
       "      <td>United-States</td>\n",
       "      <td>&lt;=50K</td>\n",
       "      <td>0</td>\n",
       "    </tr>\n",
       "    <tr>\n",
       "      <th>32560</th>\n",
       "      <td>52</td>\n",
       "      <td>Self-emp-inc</td>\n",
       "      <td>287927</td>\n",
       "      <td>HS-grad</td>\n",
       "      <td>9</td>\n",
       "      <td>Married-civ-spouse</td>\n",
       "      <td>Exec-managerial</td>\n",
       "      <td>Wife</td>\n",
       "      <td>White</td>\n",
       "      <td>Female</td>\n",
       "      <td>15024</td>\n",
       "      <td>0</td>\n",
       "      <td>40</td>\n",
       "      <td>United-States</td>\n",
       "      <td>&gt;50K</td>\n",
       "      <td>1</td>\n",
       "    </tr>\n",
       "  </tbody>\n",
       "</table>\n",
       "<p>32561 rows × 16 columns</p>\n",
       "</div>"
      ],
      "text/plain": [
       "       age          workclass  fnlwgt    education  education-num  \\\n",
       "0       39          State-gov   77516    Bachelors             13   \n",
       "1       50   Self-emp-not-inc   83311    Bachelors             13   \n",
       "2       38            Private  215646      HS-grad              9   \n",
       "3       53            Private  234721         11th              7   \n",
       "4       28            Private  338409    Bachelors             13   \n",
       "...    ...                ...     ...          ...            ...   \n",
       "32556   27            Private  257302   Assoc-acdm             12   \n",
       "32557   40            Private  154374      HS-grad              9   \n",
       "32558   58            Private  151910      HS-grad              9   \n",
       "32559   22            Private  201490      HS-grad              9   \n",
       "32560   52       Self-emp-inc  287927      HS-grad              9   \n",
       "\n",
       "            marital-status          occupation    relationship    race  \\\n",
       "0            Never-married        Adm-clerical   Not-in-family   White   \n",
       "1       Married-civ-spouse     Exec-managerial         Husband   White   \n",
       "2                 Divorced   Handlers-cleaners   Not-in-family   White   \n",
       "3       Married-civ-spouse   Handlers-cleaners         Husband   Black   \n",
       "4       Married-civ-spouse      Prof-specialty            Wife   Black   \n",
       "...                    ...                 ...             ...     ...   \n",
       "32556   Married-civ-spouse        Tech-support            Wife   White   \n",
       "32557   Married-civ-spouse   Machine-op-inspct         Husband   White   \n",
       "32558              Widowed        Adm-clerical       Unmarried   White   \n",
       "32559        Never-married        Adm-clerical       Own-child   White   \n",
       "32560   Married-civ-spouse     Exec-managerial            Wife   White   \n",
       "\n",
       "           sex  capital-gain  capital-loss  hours-per-week  native-country  \\\n",
       "0         Male          2174             0              40   United-States   \n",
       "1         Male             0             0              13   United-States   \n",
       "2         Male             0             0              40   United-States   \n",
       "3         Male             0             0              40   United-States   \n",
       "4       Female             0             0              40            Cuba   \n",
       "...        ...           ...           ...             ...             ...   \n",
       "32556   Female             0             0              38   United-States   \n",
       "32557     Male             0             0              40   United-States   \n",
       "32558   Female             0             0              40   United-States   \n",
       "32559     Male             0             0              20   United-States   \n",
       "32560   Female         15024             0              40   United-States   \n",
       "\n",
       "       income  target  \n",
       "0       <=50K       0  \n",
       "1       <=50K       0  \n",
       "2       <=50K       0  \n",
       "3       <=50K       0  \n",
       "4       <=50K       0  \n",
       "...       ...     ...  \n",
       "32556   <=50K       0  \n",
       "32557    >50K       1  \n",
       "32558   <=50K       0  \n",
       "32559   <=50K       0  \n",
       "32560    >50K       1  \n",
       "\n",
       "[32561 rows x 16 columns]"
      ]
     },
     "execution_count": 86,
     "metadata": {},
     "output_type": "execute_result"
    }
   ],
   "source": [
    "df"
   ]
  },
  {
   "cell_type": "code",
   "execution_count": 97,
   "id": "7b6786ae-dd21-4723-803b-11b193094a43",
   "metadata": {},
   "outputs": [],
   "source": [
    "higher_ed = [' Masters', ' Bachelors', ' Doctorate', ' Prof-school']"
   ]
  },
  {
   "cell_type": "code",
   "execution_count": 98,
   "id": "ba88745f-5580-43e1-acbf-b32a53de84bb",
   "metadata": {},
   "outputs": [
    {
     "data": {
      "text/plain": [
       "0.24775037621694665"
      ]
     },
     "execution_count": 98,
     "metadata": {},
     "output_type": "execute_result"
    }
   ],
   "source": [
    "df['education'].isin(higher_ed).mean()"
   ]
  },
  {
   "cell_type": "code",
   "execution_count": 108,
   "id": "95c7c697-ecec-429c-bd3e-a700fc6d591a",
   "metadata": {},
   "outputs": [],
   "source": [
    "def mk_randomized_pipeline(theta):\n",
    "    return Pipeline(steps=[\n",
    "        ('higher-ed', FunctionTransformer(lambda x: x.isin(higher_ed)*1)),\n",
    "        ('randomize', FunctionTransformer(randomize, kw_args={'theta': theta}))\n",
    "    ])\n",
    "def feature_transform(theta):\n",
    "    return ColumnTransformer(transformers=[\n",
    "        ('radomized_ed', mk_randomized_pipeline(theta), ['education']),\n",
    "        ('age + hours', FunctionTransformer(), ['age', 'hours-per-week'])\n",
    "    ])\n",
    "def mk_model(theta, depth):\n",
    "    return Pipeline(steps=[\n",
    "        ('feature_trans', feature_transform(theta)),\n",
    "        ('classifier', DecisionTreeClassifier(max_depth=depth))])"
   ]
  },
  {
   "cell_type": "code",
   "execution_count": 110,
   "id": "fb94a298-8b5b-4c07-af10-336804a798a1",
   "metadata": {},
   "outputs": [
    {
     "data": {
      "text/plain": [
       "array([0.77310408, 0.76750614, 0.7718059 , 0.77211302, 0.77979115,\n",
       "       0.77764128, 0.77764128, 0.78163391, 0.7730344 , 0.77395577])"
      ]
     },
     "execution_count": 110,
     "metadata": {},
     "output_type": "execute_result"
    }
   ],
   "source": [
    "cross_val_score(mk_model(0.5, 5), df, df['target'], cv=10)"
   ]
  },
  {
   "cell_type": "code",
   "execution_count": 115,
   "id": "11e40c08-17e6-4098-a902-b73b75213a1b",
   "metadata": {},
   "outputs": [
    {
     "data": {
      "text/plain": [
       "Text(0, 0.5, 'avg. accuracy')"
      ]
     },
     "execution_count": 115,
     "metadata": {},
     "output_type": "execute_result"
    },
    {
     "data": {
      "image/png": "[encoded data removed]",
      "text/plain": [
       "<Figure size 432x288 with 1 Axes>"
      ]
     },
     "metadata": {
      "needs_background": "light"
     },
     "output_type": "display_data"
    }
   ],
   "source": [
    "def calculate_mean_accuracy(theta, depth):\n",
    "    return cross_val_score(\n",
    "        mk_model(theta, depth), df, df['target']).mean()\n",
    "thetas = numpy.linspace(0, 1, 20)\n",
    "plt.scatter(thetas, [calculate_mean_accuracy(theta, 5) for theta in thetas])\n",
    "plt.xlabel('$\\teta$')\n",
    "plt.ylabel('avg. accuracy')"
   ]
  },
  {
   "cell_type": "code",
   "execution_count": null,
   "id": "7f50261b-bf1f-4474-9dfb-052990c6b004",
   "metadata": {},
   "outputs": [],
   "source": []
  }
 ],
 "metadata": {
  "kernelspec": {
   "display_name": "Python 3 (ipykernel)",
   "language": "python",
   "name": "python3"
  },
  "language_info": {
   "codemirror_mode": {
    "name": "ipython",
    "version": 3
   },
   "file_extension": ".py",
   "mimetype": "text/x-python",
   "name": "python",
   "nbconvert_exporter": "python",
   "pygments_lexer": "ipython3",
   "version": "3.10.4"
  }
 },
 "nbformat": 4,
 "nbformat_minor": 5
}
